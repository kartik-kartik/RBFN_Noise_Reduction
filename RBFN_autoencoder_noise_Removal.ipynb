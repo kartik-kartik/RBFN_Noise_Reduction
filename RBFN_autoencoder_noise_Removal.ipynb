{
  "nbformat": 4,
  "nbformat_minor": 0,
  "metadata": {
    "colab": {
      "name": "RBFN_autoencoder_noise_Removal.ipynb",
      "provenance": []
    },
    "kernelspec": {
      "name": "python3",
      "display_name": "Python 3"
    },
    "accelerator": "GPU"
  },
  "cells": [
    {
      "cell_type": "code",
      "metadata": {
        "id": "X5ehY70A3xUB",
        "colab_type": "code",
        "colab": {}
      },
      "source": [
        "#!wget http://groups.inf.ed.ac.uk/ami/download/temp/amiBuild-183312-Tue-Mar-31-2020.wget.sh\n",
        "!wget http://groups.inf.ed.ac.uk/ami/download/temp/amiBuild-135016-Mon-Apr-6-2020.wget.sh\n"
      ],
      "execution_count": 0,
      "outputs": []
    },
    {
      "cell_type": "code",
      "metadata": {
        "id": "ebppHzai4Icw",
        "colab_type": "code",
        "colab": {}
      },
      "source": [
        "!sh amiBuild-135016-Mon-Apr-6-2020.wget.sh"
      ],
      "execution_count": 0,
      "outputs": []
    },
    {
      "cell_type": "code",
      "metadata": {
        "id": "g8uKD00s4Np3",
        "colab_type": "code",
        "colab": {}
      },
      "source": [
        "!nvidia-smi"
      ],
      "execution_count": 0,
      "outputs": []
    },
    {
      "cell_type": "code",
      "metadata": {
        "id": "_zRozvLj_e5A",
        "colab_type": "code",
        "colab": {
          "base_uri": "https://localhost:8080/",
          "height": 34
        },
        "outputId": "cde775e6-221d-45c6-f81d-4c6e7942f638"
      },
      "source": [
        "from google.colab import drive\n",
        "drive.mount('/content/drive')"
      ],
      "execution_count": 7,
      "outputs": [
        {
          "output_type": "stream",
          "text": [
            "Drive already mounted at /content/drive; to attempt to forcibly remount, call drive.mount(\"/content/drive\", force_remount=True).\n"
          ],
          "name": "stdout"
        }
      ]
    },
    {
      "cell_type": "code",
      "metadata": {
        "id": "WBOWwYBl42ld",
        "colab_type": "code",
        "colab": {}
      },
      "source": [
        "import librosa\n",
        "from glob import glob\n",
        "import numpy as np\n",
        "import matplotlib.pyplot as plt\n",
        "\n",
        "# loop over all files in the current directory ending with .txt\n",
        "for fname in glob(\"/content/drive/My Drive/kk/AMI_Corpus/ES2008a.A*.wav\"):\n",
        "  x , sr = librosa.load(fname)\n",
        "  import librosa.display\n",
        "  plt.figure(figsize=(14, 5))\n",
        "  librosa.display.waveplot(x,sr=sr)"
      ],
      "execution_count": 0,
      "outputs": []
    },
    {
      "cell_type": "code",
      "metadata": {
        "id": "NRJhH9nbyga0",
        "colab_type": "code",
        "colab": {}
      },
      "source": [
        ""
      ],
      "execution_count": 0,
      "outputs": []
    },
    {
      "cell_type": "code",
      "metadata": {
        "id": "zAPm-R6x-s52",
        "colab_type": "code",
        "outputId": "c5c71819-4324-48f1-c713-392dd3ac6949",
        "colab": {
          "base_uri": "https://localhost:8080/",
          "height": 34
        }
      },
      "source": [
        "x.shape"
      ],
      "execution_count": 17,
      "outputs": [
        {
          "output_type": "execute_result",
          "data": {
            "text/plain": [
              "(23006088,)"
            ]
          },
          "metadata": {
            "tags": []
          },
          "execution_count": 17
        }
      ]
    },
    {
      "cell_type": "code",
      "metadata": {
        "id": "BYZo6VHp_Pr7",
        "colab_type": "code",
        "colab": {}
      },
      "source": [
        "\n",
        "import tensorflow as tf\n",
        "from tensorflow import keras\n",
        "from tensorflow.keras import layers\n",
        "from tensorflow.keras.models import Sequential, load_model\n",
        "from tensorflow.keras.layers import Dense\n",
        "from tensorflow.keras.optimizers import RMSprop\n",
        "from tensorflow.keras import backend as K\n",
        "from tensorflow.keras.layers import Layer\n",
        "from tensorflow.keras.initializers import RandomUniform, Initializer, Constant"
      ],
      "execution_count": 0,
      "outputs": []
    },
    {
      "cell_type": "code",
      "metadata": {
        "id": "U2yEKVBEB0Ea",
        "colab_type": "code",
        "outputId": "82cff0a5-e809-42dc-855d-9f7026941596",
        "colab": {
          "base_uri": "https://localhost:8080/",
          "height": 34
        }
      },
      "source": [
        "x.shape\n"
      ],
      "execution_count": 19,
      "outputs": [
        {
          "output_type": "execute_result",
          "data": {
            "text/plain": [
              "(23006088,)"
            ]
          },
          "metadata": {
            "tags": []
          },
          "execution_count": 19
        }
      ]
    },
    {
      "cell_type": "code",
      "metadata": {
        "id": "Xa6KiDdrB6Bl",
        "colab_type": "code",
        "outputId": "661fd6da-735d-49c1-9a8b-f70d3f794592",
        "colab": {
          "base_uri": "https://localhost:8080/",
          "height": 118
        }
      },
      "source": [
        "from glob import glob\n",
        "import numpy as np\n",
        "import librosa\n",
        "X = []\n",
        "pad = lambda a, i: a[0: i] if a.shape[0] > i else np.hstack((a, np.zeros(i - a.shape[0])))\n",
        "#for fname in glob(\"/content/amicorpus/ES2011a/audio/*.wav\"):\n",
        "for fname in glob(\"/content/drive/My Drive/kk/AMI_Corpus/ES2008a.A*.wav\"):  \n",
        "    #struct = fname.split('_')\n",
        "    #digit = struct[0]\n",
        "    print(fname)\n",
        "    wav, sr = librosa.load(fname)\n",
        "    padded = pad(wav, 3000)\n",
        "    X.append(padded)"
      ],
      "execution_count": 20,
      "outputs": [
        {
          "output_type": "stream",
          "text": [
            "/content/drive/My Drive/kk/AMI_Corpus/ES2008a.Array1-01.wav\n",
            "/content/drive/My Drive/kk/AMI_Corpus/ES2008a.Array1-02.wav\n",
            "/content/drive/My Drive/kk/AMI_Corpus/ES2008a.Array1-03.wav\n",
            "/content/drive/My Drive/kk/AMI_Corpus/ES2008a.Array1-04.wav\n",
            "/content/drive/My Drive/kk/AMI_Corpus/ES2008a.Array1-05.wav\n",
            "/content/drive/My Drive/kk/AMI_Corpus/ES2008a.Array1-06.wav\n"
          ],
          "name": "stdout"
        }
      ]
    },
    {
      "cell_type": "code",
      "metadata": {
        "id": "rncHuEHVCE-4",
        "colab_type": "code",
        "colab": {}
      },
      "source": [
        "X=np.vstack(X)"
      ],
      "execution_count": 0,
      "outputs": []
    },
    {
      "cell_type": "code",
      "metadata": {
        "id": "F_H0hxbVCGSK",
        "colab_type": "code",
        "outputId": "57a21cf8-cabb-447b-8a92-4dd45640b865",
        "colab": {
          "base_uri": "https://localhost:8080/",
          "height": 34
        }
      },
      "source": [
        "X.shape"
      ],
      "execution_count": 22,
      "outputs": [
        {
          "output_type": "execute_result",
          "data": {
            "text/plain": [
              "(6, 3000)"
            ]
          },
          "metadata": {
            "tags": []
          },
          "execution_count": 22
        }
      ]
    },
    {
      "cell_type": "code",
      "metadata": {
        "id": "s53Vf54FEK2Z",
        "colab_type": "code",
        "outputId": "d2c4d33e-4ed3-4c30-d576-3ac28883047c",
        "colab": {
          "base_uri": "https://localhost:8080/",
          "height": 212
        }
      },
      "source": [
        "#dont run this ..this is not used \n",
        "rbflayer = RBFLayer(X.shape[0],\n",
        "                        initializer=InitCentersRandom(X),\n",
        "                        betas=1.0,\n",
        "                        input_shape=(X.shape[1],))"
      ],
      "execution_count": 25,
      "outputs": [
        {
          "output_type": "error",
          "ename": "NameError",
          "evalue": "ignored",
          "traceback": [
            "\u001b[0;31m---------------------------------------------------------------------------\u001b[0m",
            "\u001b[0;31mNameError\u001b[0m                                 Traceback (most recent call last)",
            "\u001b[0;32m<ipython-input-25-21afc65e3065>\u001b[0m in \u001b[0;36m<module>\u001b[0;34m()\u001b[0m\n\u001b[0;32m----> 1\u001b[0;31m rbflayer = RBFLayer(X.shape[0],\n\u001b[0m\u001b[1;32m      2\u001b[0m                         \u001b[0minitializer\u001b[0m\u001b[0;34m=\u001b[0m\u001b[0mInitCentersRandom\u001b[0m\u001b[0;34m(\u001b[0m\u001b[0mX\u001b[0m\u001b[0;34m)\u001b[0m\u001b[0;34m,\u001b[0m\u001b[0;34m\u001b[0m\u001b[0;34m\u001b[0m\u001b[0m\n\u001b[1;32m      3\u001b[0m                         \u001b[0mbetas\u001b[0m\u001b[0;34m=\u001b[0m\u001b[0;36m1.0\u001b[0m\u001b[0;34m,\u001b[0m\u001b[0;34m\u001b[0m\u001b[0;34m\u001b[0m\u001b[0m\n\u001b[1;32m      4\u001b[0m                         input_shape=(X.shape[1],))\n",
            "\u001b[0;31mNameError\u001b[0m: name 'RBFLayer' is not defined"
          ]
        }
      ]
    },
    {
      "cell_type": "code",
      "metadata": {
        "id": "lE9ukBO0EQgn",
        "colab_type": "code",
        "outputId": "7ea6ba1d-e492-44e5-b949-0debd2a6af61",
        "colab": {
          "base_uri": "https://localhost:8080/",
          "height": 178
        }
      },
      "source": [
        "#dont run this \n",
        "model = Sequential()\n",
        "model.add(rbflayer)"
      ],
      "execution_count": 26,
      "outputs": [
        {
          "output_type": "error",
          "ename": "NameError",
          "evalue": "ignored",
          "traceback": [
            "\u001b[0;31m---------------------------------------------------------------------------\u001b[0m",
            "\u001b[0;31mNameError\u001b[0m                                 Traceback (most recent call last)",
            "\u001b[0;32m<ipython-input-26-8278207a6f82>\u001b[0m in \u001b[0;36m<module>\u001b[0;34m()\u001b[0m\n\u001b[1;32m      1\u001b[0m \u001b[0mmodel\u001b[0m \u001b[0;34m=\u001b[0m \u001b[0mSequential\u001b[0m\u001b[0;34m(\u001b[0m\u001b[0;34m)\u001b[0m\u001b[0;34m\u001b[0m\u001b[0;34m\u001b[0m\u001b[0m\n\u001b[0;32m----> 2\u001b[0;31m \u001b[0mmodel\u001b[0m\u001b[0;34m.\u001b[0m\u001b[0madd\u001b[0m\u001b[0;34m(\u001b[0m\u001b[0mrbflayer\u001b[0m\u001b[0;34m)\u001b[0m\u001b[0;34m\u001b[0m\u001b[0;34m\u001b[0m\u001b[0m\n\u001b[0m",
            "\u001b[0;31mNameError\u001b[0m: name 'rbflayer' is not defined"
          ]
        }
      ]
    },
    {
      "cell_type": "code",
      "metadata": {
        "id": "Aj7rg70pF7Zu",
        "colab_type": "code",
        "colab": {}
      },
      "source": [
        "#new way RBF \n",
        "class RBFLayer(Layer):\n",
        "    def __init__(self, units, gamma, **kwargs):\n",
        "        super(RBFLayer, self).__init__(**kwargs)\n",
        "        self.units = units\n",
        "        self.gamma = K.cast_to_floatx(gamma)\n",
        "\n",
        "    def build(self, input_shape):\n",
        "#         print(input_shape)\n",
        "#         print(self.units)\n",
        "        self.mu = self.add_weight(name='mu',\n",
        "                                  shape=(int(input_shape[1]), self.units),\n",
        "                                  initializer='uniform',\n",
        "                                  trainable=True)\n",
        "        super(RBFLayer, self).build(input_shape)\n",
        "\n",
        "    def call(self, inputs):\n",
        "        diff = K.expand_dims(inputs) - self.mu\n",
        "        l2 = K.sum(K.pow(diff, 2), axis=1)\n",
        "        res = K.exp(-1 * self.gamma * l2)\n",
        "        return res\n",
        "\n",
        "    def compute_output_shape(self, input_shape):\n",
        "        return (input_shape[0], self.units)\n"
      ],
      "execution_count": 0,
      "outputs": []
    },
    {
      "cell_type": "code",
      "metadata": {
        "id": "XrxwADclEVtw",
        "colab_type": "code",
        "colab": {}
      },
      "source": [
        "from tensorflow.keras.layers import Flatten\n",
        "model = Sequential()\n",
        "model.add(Flatten(input_shape=(1,X.shape[1])))\n",
        "model.add(RBFLayer(100, 0.5))"
      ],
      "execution_count": 0,
      "outputs": []
    },
    {
      "cell_type": "code",
      "metadata": {
        "id": "nOcDTqJBEb7o",
        "colab_type": "code",
        "outputId": "bb81b0cd-1699-42fa-c492-bf3b853870b3",
        "colab": {
          "base_uri": "https://localhost:8080/",
          "height": 225
        }
      },
      "source": [
        "model.summary()"
      ],
      "execution_count": 0,
      "outputs": [
        {
          "output_type": "stream",
          "text": [
            "Model: \"sequential_11\"\n",
            "_________________________________________________________________\n",
            "Layer (type)                 Output Shape              Param #   \n",
            "=================================================================\n",
            "flatten_10 (Flatten)         (None, 3000)              0         \n",
            "_________________________________________________________________\n",
            "rbf_layer_9 (RBFLayer)       (None, 100)               300000    \n",
            "=================================================================\n",
            "Total params: 300,000\n",
            "Trainable params: 300,000\n",
            "Non-trainable params: 0\n",
            "_________________________________________________________________\n"
          ],
          "name": "stdout"
        }
      ]
    },
    {
      "cell_type": "code",
      "metadata": {
        "id": "iwOYexRUFkhi",
        "colab_type": "code",
        "colab": {}
      },
      "source": [
        "#now decode it\n",
        "model.add(RBFLayer(3000, 0.5))"
      ],
      "execution_count": 0,
      "outputs": []
    },
    {
      "cell_type": "code",
      "metadata": {
        "id": "N1Z7nSgtK-wM",
        "colab_type": "code",
        "outputId": "2dcc40ae-eeb0-4996-84f9-f7cac35829e1",
        "colab": {
          "base_uri": "https://localhost:8080/",
          "height": 252
        }
      },
      "source": [
        "model.summary()"
      ],
      "execution_count": 30,
      "outputs": [
        {
          "output_type": "stream",
          "text": [
            "Model: \"sequential_1\"\n",
            "_________________________________________________________________\n",
            "Layer (type)                 Output Shape              Param #   \n",
            "=================================================================\n",
            "flatten (Flatten)            (None, 3000)              0         \n",
            "_________________________________________________________________\n",
            "rbf_layer (RBFLayer)         (None, 100)               300000    \n",
            "_________________________________________________________________\n",
            "rbf_layer_1 (RBFLayer)       (None, 3000)              300000    \n",
            "=================================================================\n",
            "Total params: 600,000\n",
            "Trainable params: 600,000\n",
            "Non-trainable params: 0\n",
            "_________________________________________________________________\n"
          ],
          "name": "stdout"
        }
      ]
    },
    {
      "cell_type": "code",
      "metadata": {
        "id": "rW7jylRsLAe5",
        "colab_type": "code",
        "colab": {}
      },
      "source": [
        "model.compile(optimizer='adam', loss='binary_crossentropy')"
      ],
      "execution_count": 0,
      "outputs": []
    },
    {
      "cell_type": "code",
      "metadata": {
        "id": "qJnzCICKNdl6",
        "colab_type": "code",
        "outputId": "a491bf31-994b-47e4-8723-768420525f2b",
        "colab": {
          "base_uri": "https://localhost:8080/",
          "height": 34
        }
      },
      "source": [
        "X.shape"
      ],
      "execution_count": 32,
      "outputs": [
        {
          "output_type": "execute_result",
          "data": {
            "text/plain": [
              "(6, 3000)"
            ]
          },
          "metadata": {
            "tags": []
          },
          "execution_count": 32
        }
      ]
    },
    {
      "cell_type": "code",
      "metadata": {
        "id": "DYSST-HOOCn4",
        "colab_type": "code",
        "colab": {}
      },
      "source": [
        "from sklearn.model_selection import train_test_split\n",
        "X_train, X_test = train_test_split(X, test_size=0.3)"
      ],
      "execution_count": 0,
      "outputs": []
    },
    {
      "cell_type": "code",
      "metadata": {
        "id": "Xx7Oe5U6OGfs",
        "colab_type": "code",
        "outputId": "27502e79-6f04-4fb2-bf2d-ff237ca03a16",
        "colab": {
          "base_uri": "https://localhost:8080/",
          "height": 34
        }
      },
      "source": [
        "X_train.shape,X_test.shape\n"
      ],
      "execution_count": 34,
      "outputs": [
        {
          "output_type": "execute_result",
          "data": {
            "text/plain": [
              "((4, 3000), (2, 3000))"
            ]
          },
          "metadata": {
            "tags": []
          },
          "execution_count": 34
        }
      ]
    },
    {
      "cell_type": "code",
      "metadata": {
        "id": "Gt7tWdkyMrF6",
        "colab_type": "code",
        "outputId": "c1e89a18-0398-4918-eeec-8603d005ba72",
        "colab": {
          "base_uri": "https://localhost:8080/",
          "height": 1000
        }
      },
      "source": [
        "model.fit(X_train,X_train,\n",
        "                epochs=100,\n",
        "                batch_size=256,\n",
        "                shuffle=True,\n",
        "                validation_data=(X_test, X_test))"
      ],
      "execution_count": 35,
      "outputs": [
        {
          "output_type": "stream",
          "text": [
            "Epoch 1/100\n",
            "WARNING:tensorflow:Model was constructed with shape (None, 1, 3000) for input Tensor(\"flatten_input:0\", shape=(None, 1, 3000), dtype=float32), but it was called on an input with incompatible shape (None, 3000).\n",
            "WARNING:tensorflow:Model was constructed with shape (None, 1, 3000) for input Tensor(\"flatten_input:0\", shape=(None, 1, 3000), dtype=float32), but it was called on an input with incompatible shape (None, 3000).\n",
            "1/1 [==============================] - ETA: 0s - loss: 0.0181WARNING:tensorflow:Model was constructed with shape (None, 1, 3000) for input Tensor(\"flatten_input:0\", shape=(None, 1, 3000), dtype=float32), but it was called on an input with incompatible shape (None, 3000).\n",
            "1/1 [==============================] - 0s 165ms/step - loss: 0.0181 - val_loss: 0.0103\n",
            "Epoch 2/100\n",
            "1/1 [==============================] - 0s 32ms/step - loss: 0.0103 - val_loss: 0.0059\n",
            "Epoch 3/100\n",
            "1/1 [==============================] - 0s 29ms/step - loss: 0.0059 - val_loss: 0.0036\n",
            "Epoch 4/100\n",
            "1/1 [==============================] - 0s 29ms/step - loss: 0.0036 - val_loss: 0.0025\n",
            "Epoch 5/100\n",
            "1/1 [==============================] - 0s 34ms/step - loss: 0.0025 - val_loss: 0.0020\n",
            "Epoch 6/100\n",
            "1/1 [==============================] - 0s 31ms/step - loss: 0.0019 - val_loss: 0.0018\n",
            "Epoch 7/100\n",
            "1/1 [==============================] - 0s 28ms/step - loss: 0.0017 - val_loss: 0.0017\n",
            "Epoch 8/100\n",
            "1/1 [==============================] - 0s 29ms/step - loss: 0.0016 - val_loss: 0.0017\n",
            "Epoch 9/100\n",
            "1/1 [==============================] - 0s 29ms/step - loss: 0.0016 - val_loss: 0.0017\n",
            "Epoch 10/100\n",
            "1/1 [==============================] - 0s 28ms/step - loss: 0.0016 - val_loss: 0.0017\n",
            "Epoch 11/100\n",
            "1/1 [==============================] - 0s 30ms/step - loss: 0.0016 - val_loss: 0.0018\n",
            "Epoch 12/100\n",
            "1/1 [==============================] - 0s 30ms/step - loss: 0.0017 - val_loss: 0.0018\n",
            "Epoch 13/100\n",
            "1/1 [==============================] - 0s 30ms/step - loss: 0.0017 - val_loss: 0.0018\n",
            "Epoch 14/100\n",
            "1/1 [==============================] - 0s 30ms/step - loss: 0.0017 - val_loss: 0.0018\n",
            "Epoch 15/100\n",
            "1/1 [==============================] - 0s 25ms/step - loss: 0.0017 - val_loss: 0.0019\n",
            "Epoch 16/100\n",
            "1/1 [==============================] - 0s 25ms/step - loss: 0.0018 - val_loss: 0.0019\n",
            "Epoch 17/100\n",
            "1/1 [==============================] - 0s 26ms/step - loss: 0.0018 - val_loss: 0.0019\n",
            "Epoch 18/100\n",
            "1/1 [==============================] - 0s 27ms/step - loss: 0.0018 - val_loss: 0.0019\n",
            "Epoch 19/100\n",
            "1/1 [==============================] - 0s 27ms/step - loss: 0.0018 - val_loss: 0.0019\n",
            "Epoch 20/100\n",
            "1/1 [==============================] - 0s 27ms/step - loss: 0.0018 - val_loss: 0.0019\n",
            "Epoch 21/100\n",
            "1/1 [==============================] - 0s 26ms/step - loss: 0.0018 - val_loss: 0.0019\n",
            "Epoch 22/100\n",
            "1/1 [==============================] - 0s 27ms/step - loss: 0.0018 - val_loss: 0.0019\n",
            "Epoch 23/100\n",
            "1/1 [==============================] - 0s 28ms/step - loss: 0.0018 - val_loss: 0.0019\n",
            "Epoch 24/100\n",
            "1/1 [==============================] - 0s 35ms/step - loss: 0.0018 - val_loss: 0.0019\n",
            "Epoch 25/100\n",
            "1/1 [==============================] - 0s 33ms/step - loss: 0.0017 - val_loss: 0.0018\n",
            "Epoch 26/100\n",
            "1/1 [==============================] - 0s 29ms/step - loss: 0.0017 - val_loss: 0.0018\n",
            "Epoch 27/100\n",
            "1/1 [==============================] - 0s 28ms/step - loss: 0.0017 - val_loss: 0.0018\n",
            "Epoch 28/100\n",
            "1/1 [==============================] - 0s 30ms/step - loss: 0.0017 - val_loss: 0.0018\n",
            "Epoch 29/100\n",
            "1/1 [==============================] - 0s 28ms/step - loss: 0.0016 - val_loss: 0.0018\n",
            "Epoch 30/100\n",
            "1/1 [==============================] - 0s 28ms/step - loss: 0.0016 - val_loss: 0.0017\n",
            "Epoch 31/100\n",
            "1/1 [==============================] - 0s 28ms/step - loss: 0.0016 - val_loss: 0.0017\n",
            "Epoch 32/100\n",
            "1/1 [==============================] - 0s 29ms/step - loss: 0.0016 - val_loss: 0.0017\n",
            "Epoch 33/100\n",
            "1/1 [==============================] - 0s 33ms/step - loss: 0.0015 - val_loss: 0.0016\n",
            "Epoch 34/100\n",
            "1/1 [==============================] - 0s 31ms/step - loss: 0.0015 - val_loss: 0.0016\n",
            "Epoch 35/100\n",
            "1/1 [==============================] - 0s 26ms/step - loss: 0.0014 - val_loss: 0.0016\n",
            "Epoch 36/100\n",
            "1/1 [==============================] - 0s 30ms/step - loss: 0.0014 - val_loss: 0.0015\n",
            "Epoch 37/100\n",
            "1/1 [==============================] - 0s 28ms/step - loss: 0.0014 - val_loss: 0.0015\n",
            "Epoch 38/100\n",
            "1/1 [==============================] - 0s 29ms/step - loss: 0.0013 - val_loss: 0.0014\n",
            "Epoch 39/100\n",
            "1/1 [==============================] - 0s 28ms/step - loss: 0.0013 - val_loss: 0.0014\n",
            "Epoch 40/100\n",
            "1/1 [==============================] - 0s 28ms/step - loss: 0.0013 - val_loss: 0.0014\n",
            "Epoch 41/100\n",
            "1/1 [==============================] - 0s 31ms/step - loss: 0.0012 - val_loss: 0.0013\n",
            "Epoch 42/100\n",
            "1/1 [==============================] - 0s 28ms/step - loss: 0.0012 - val_loss: 0.0013\n",
            "Epoch 43/100\n",
            "1/1 [==============================] - 0s 35ms/step - loss: 0.0011 - val_loss: 0.0012\n",
            "Epoch 44/100\n",
            "1/1 [==============================] - 0s 28ms/step - loss: 0.0011 - val_loss: 0.0012\n",
            "Epoch 45/100\n",
            "1/1 [==============================] - 0s 29ms/step - loss: 0.0010 - val_loss: 0.0012\n",
            "Epoch 46/100\n",
            "1/1 [==============================] - 0s 29ms/step - loss: 0.0010 - val_loss: 0.0011\n",
            "Epoch 47/100\n",
            "1/1 [==============================] - 0s 27ms/step - loss: 9.6538e-04 - val_loss: 0.0011\n",
            "Epoch 48/100\n",
            "1/1 [==============================] - 0s 26ms/step - loss: 9.2483e-04 - val_loss: 0.0010\n",
            "Epoch 49/100\n",
            "1/1 [==============================] - 0s 27ms/step - loss: 8.8460e-04 - val_loss: 0.0010\n",
            "Epoch 50/100\n",
            "1/1 [==============================] - 0s 26ms/step - loss: 8.4477e-04 - val_loss: 9.7056e-04\n",
            "Epoch 51/100\n",
            "1/1 [==============================] - 0s 29ms/step - loss: 8.0540e-04 - val_loss: 9.3270e-04\n",
            "Epoch 52/100\n",
            "1/1 [==============================] - 0s 36ms/step - loss: 7.6653e-04 - val_loss: 8.9540e-04\n",
            "Epoch 53/100\n",
            "1/1 [==============================] - 0s 28ms/step - loss: 7.2822e-04 - val_loss: 8.5869e-04\n",
            "Epoch 54/100\n",
            "1/1 [==============================] - 0s 34ms/step - loss: 6.9051e-04 - val_loss: 8.2262e-04\n",
            "Epoch 55/100\n",
            "1/1 [==============================] - 0s 27ms/step - loss: 6.5344e-04 - val_loss: 7.8723e-04\n",
            "Epoch 56/100\n",
            "1/1 [==============================] - 0s 26ms/step - loss: 6.1704e-04 - val_loss: 7.5254e-04\n",
            "Epoch 57/100\n",
            "1/1 [==============================] - 0s 25ms/step - loss: 5.8134e-04 - val_loss: 7.1858e-04\n",
            "Epoch 58/100\n",
            "1/1 [==============================] - 0s 30ms/step - loss: 5.4636e-04 - val_loss: 6.8535e-04\n",
            "Epoch 59/100\n",
            "1/1 [==============================] - 0s 28ms/step - loss: 5.1210e-04 - val_loss: 6.5288e-04\n",
            "Epoch 60/100\n",
            "1/1 [==============================] - 0s 28ms/step - loss: 4.7858e-04 - val_loss: 6.2116e-04\n",
            "Epoch 61/100\n",
            "1/1 [==============================] - 0s 30ms/step - loss: 4.4580e-04 - val_loss: 5.9019e-04\n",
            "Epoch 62/100\n",
            "1/1 [==============================] - 0s 32ms/step - loss: 4.1374e-04 - val_loss: 5.5994e-04\n",
            "Epoch 63/100\n",
            "1/1 [==============================] - 0s 34ms/step - loss: 3.8237e-04 - val_loss: 5.3040e-04\n",
            "Epoch 64/100\n",
            "1/1 [==============================] - 0s 28ms/step - loss: 3.5169e-04 - val_loss: 5.0152e-04\n",
            "Epoch 65/100\n",
            "1/1 [==============================] - 0s 30ms/step - loss: 3.2163e-04 - val_loss: 4.7328e-04\n",
            "Epoch 66/100\n",
            "1/1 [==============================] - 0s 33ms/step - loss: 2.9218e-04 - val_loss: 4.4562e-04\n",
            "Epoch 67/100\n",
            "1/1 [==============================] - 0s 28ms/step - loss: 2.6326e-04 - val_loss: 4.1849e-04\n",
            "Epoch 68/100\n",
            "1/1 [==============================] - 0s 27ms/step - loss: 2.3482e-04 - val_loss: 3.9183e-04\n",
            "Epoch 69/100\n",
            "1/1 [==============================] - 0s 27ms/step - loss: 2.0681e-04 - val_loss: 3.6557e-04\n",
            "Epoch 70/100\n",
            "1/1 [==============================] - 0s 26ms/step - loss: 1.7914e-04 - val_loss: 3.3964e-04\n",
            "Epoch 71/100\n",
            "1/1 [==============================] - 0s 32ms/step - loss: 1.5176e-04 - val_loss: 3.1398e-04\n",
            "Epoch 72/100\n",
            "1/1 [==============================] - 0s 37ms/step - loss: 1.2458e-04 - val_loss: 2.8853e-04\n",
            "Epoch 73/100\n",
            "1/1 [==============================] - 0s 28ms/step - loss: 9.7544e-05 - val_loss: 2.6321e-04\n",
            "Epoch 74/100\n",
            "1/1 [==============================] - 0s 28ms/step - loss: 7.0581e-05 - val_loss: 2.3796e-04\n",
            "Epoch 75/100\n",
            "1/1 [==============================] - 0s 27ms/step - loss: 4.3628e-05 - val_loss: 2.1274e-04\n",
            "Epoch 76/100\n",
            "1/1 [==============================] - 0s 28ms/step - loss: 1.6629e-05 - val_loss: 1.8748e-04\n",
            "Epoch 77/100\n",
            "1/1 [==============================] - 0s 30ms/step - loss: -1.0469e-05 - val_loss: 1.6215e-04\n",
            "Epoch 78/100\n",
            "1/1 [==============================] - 0s 31ms/step - loss: -3.7706e-05 - val_loss: 1.3671e-04\n",
            "Epoch 79/100\n",
            "1/1 [==============================] - 0s 31ms/step - loss: -6.5118e-05 - val_loss: 1.1114e-04\n",
            "Epoch 80/100\n",
            "1/1 [==============================] - 0s 29ms/step - loss: -9.2733e-05 - val_loss: 8.5403e-05\n",
            "Epoch 81/100\n",
            "1/1 [==============================] - 0s 32ms/step - loss: -1.2057e-04 - val_loss: 5.9500e-05\n",
            "Epoch 82/100\n",
            "1/1 [==============================] - 0s 30ms/step - loss: -1.4864e-04 - val_loss: 3.3418e-05\n",
            "Epoch 83/100\n",
            "1/1 [==============================] - 0s 35ms/step - loss: -1.7695e-04 - val_loss: 7.1544e-06\n",
            "Epoch 84/100\n",
            "1/1 [==============================] - 0s 28ms/step - loss: -2.0549e-04 - val_loss: -1.9290e-05\n",
            "Epoch 85/100\n",
            "1/1 [==============================] - 0s 28ms/step - loss: -2.3428e-04 - val_loss: -4.5910e-05\n",
            "Epoch 86/100\n",
            "1/1 [==============================] - 0s 28ms/step - loss: -2.6329e-04 - val_loss: -7.2699e-05\n",
            "Epoch 87/100\n",
            "1/1 [==============================] - 0s 30ms/step - loss: -2.9251e-04 - val_loss: -9.9650e-05\n",
            "Epoch 88/100\n",
            "1/1 [==============================] - 0s 28ms/step - loss: -3.2195e-04 - val_loss: -1.2675e-04\n",
            "Epoch 89/100\n",
            "1/1 [==============================] - 0s 29ms/step - loss: -3.5158e-04 - val_loss: -1.5400e-04\n",
            "Epoch 90/100\n",
            "1/1 [==============================] - 0s 34ms/step - loss: -3.8139e-04 - val_loss: -1.8139e-04\n",
            "Epoch 91/100\n",
            "1/1 [==============================] - 0s 41ms/step - loss: -4.1138e-04 - val_loss: -2.0890e-04\n",
            "Epoch 92/100\n",
            "1/1 [==============================] - 0s 28ms/step - loss: -4.4153e-04 - val_loss: -2.3654e-04\n",
            "Epoch 93/100\n",
            "1/1 [==============================] - 0s 32ms/step - loss: -4.7182e-04 - val_loss: -2.6429e-04\n",
            "Epoch 94/100\n",
            "1/1 [==============================] - 0s 30ms/step - loss: -5.0226e-04 - val_loss: -2.9216e-04\n",
            "Epoch 95/100\n",
            "1/1 [==============================] - 0s 31ms/step - loss: -5.3284e-04 - val_loss: -3.2013e-04\n",
            "Epoch 96/100\n",
            "1/1 [==============================] - 0s 28ms/step - loss: -5.6354e-04 - val_loss: -3.4821e-04\n",
            "Epoch 97/100\n",
            "1/1 [==============================] - 0s 28ms/step - loss: -5.9437e-04 - val_loss: -3.7640e-04\n",
            "Epoch 98/100\n",
            "1/1 [==============================] - 0s 28ms/step - loss: -6.2531e-04 - val_loss: -4.0469e-04\n",
            "Epoch 99/100\n",
            "1/1 [==============================] - 0s 28ms/step - loss: -6.5638e-04 - val_loss: -4.3309e-04\n",
            "Epoch 100/100\n",
            "1/1 [==============================] - 0s 29ms/step - loss: -6.8755e-04 - val_loss: -4.6158e-04\n"
          ],
          "name": "stdout"
        },
        {
          "output_type": "execute_result",
          "data": {
            "text/plain": [
              "<tensorflow.python.keras.callbacks.History at 0x7f3ab009e780>"
            ]
          },
          "metadata": {
            "tags": []
          },
          "execution_count": 35
        }
      ]
    },
    {
      "cell_type": "code",
      "metadata": {
        "id": "VlFaik5yORbK",
        "colab_type": "code",
        "outputId": "d1933aca-e940-4dc5-b031-9c36c7ebc2ca",
        "colab": {
          "base_uri": "https://localhost:8080/",
          "height": 54
        }
      },
      "source": [
        "y=model.predict(X_test)"
      ],
      "execution_count": 36,
      "outputs": [
        {
          "output_type": "stream",
          "text": [
            "WARNING:tensorflow:Model was constructed with shape (None, 1, 3000) for input Tensor(\"flatten_input:0\", shape=(None, 1, 3000), dtype=float32), but it was called on an input with incompatible shape (None, 3000).\n"
          ],
          "name": "stdout"
        }
      ]
    },
    {
      "cell_type": "code",
      "metadata": {
        "id": "B_tUGUV4PzfC",
        "colab_type": "code",
        "outputId": "4615e7c8-5938-45ab-fd40-bd86e7239f8a",
        "colab": {
          "base_uri": "https://localhost:8080/",
          "height": 84
        }
      },
      "source": [
        "y.shape,\n",
        "print(y)"
      ],
      "execution_count": 37,
      "outputs": [
        {
          "output_type": "stream",
          "text": [
            "[[2.2612921e-05 2.1207734e-05 2.1311520e-05 ... 1.1873695e-04\n",
            "  1.4290867e-04 1.6214937e-04]\n",
            " [2.3958262e-05 2.2470653e-05 2.2582146e-05 ... 1.2520603e-04\n",
            "  1.5063460e-04 1.7085782e-04]]\n"
          ],
          "name": "stdout"
        }
      ]
    },
    {
      "cell_type": "code",
      "metadata": {
        "id": "CEyVQhO84vQF",
        "colab_type": "code",
        "colab": {}
      },
      "source": [
        "#import os\n",
        "#os.chdir(give ur local path) then run below so it can be saved\n",
        "for i in range(y.shape[0]):\n",
        "  #give full path here before file_  ex - give local path of ur system if needed\n",
        "  f = open(\"file_\"+str(i)+\".wav\",\"wb\")\n",
        "  data=y[i]\n",
        "  librosa.output.write_wav(f,data,sr=sr)\n",
        "  "
      ],
      "execution_count": 0,
      "outputs": []
    },
    {
      "cell_type": "code",
      "metadata": {
        "id": "sQ8-qukiP22i",
        "colab_type": "code",
        "outputId": "24f3132a-4650-4999-c06f-06c113d129b9",
        "colab": {
          "base_uri": "https://localhost:8080/",
          "height": 685
        }
      },
      "source": [
        "import librosa\n",
        "import librosa.display\n",
        "#librosa.display.waveplot(y,sr=sr)\n",
        "#change path here if u r having local path , wherever ur file is \n",
        "for fname in glob(\"/content/file_*.wav\"):\n",
        "  print(fname)\n",
        "  x1 , sr = librosa.load(fname)\n",
        "  plt.figure(figsize=(10, 5))\n",
        "  librosa.display.waveplot(x1,sr=sr)"
      ],
      "execution_count": 39,
      "outputs": [
        {
          "output_type": "stream",
          "text": [
            "/content/file_0.wav\n",
            "/content/file_1.wav\n"
          ],
          "name": "stdout"
        },
        {
          "output_type": "display_data",
          "data": {
            "image/png": "[encoded data removed]",
            "text/plain": [
              "<Figure size 720x360 with 1 Axes>"
            ]
          },
          "metadata": {
            "tags": []
          }
        },
        {
          "output_type": "display_data",
          "data": {
            "image/png": "[encoded data removed]",
            "text/plain": [
              "<Figure size 720x360 with 1 Axes>"
            ]
          },
          "metadata": {
            "tags": []
          }
        }
      ]
    },
    {
      "cell_type": "code",
      "metadata": {
        "id": "mxvsT7XWQhe0",
        "colab_type": "code",
        "colab": {}
      },
      "source": [
        ""
      ],
      "execution_count": 0,
      "outputs": []
    }
  ]
}